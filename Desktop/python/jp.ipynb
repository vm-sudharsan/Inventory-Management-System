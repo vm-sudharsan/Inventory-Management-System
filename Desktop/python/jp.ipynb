{
 "cells": [
  {
   "cell_type": "code",
   "execution_count": 3,
   "metadata": {},
   "outputs": [
    {
     "name": "stdout",
     "output_type": "stream",
     "text": [
      "Requirement already satisfied: pandas in c:\\users\\sudharsan\\appdata\\local\\programs\\python\\python312\\lib\\site-packages (2.2.2)\n",
      "Requirement already satisfied: numpy>=1.26.0 in c:\\users\\sudharsan\\appdata\\local\\programs\\python\\python312\\lib\\site-packages (from pandas) (2.0.0)\n",
      "Requirement already satisfied: python-dateutil>=2.8.2 in c:\\users\\sudharsan\\appdata\\roaming\\python\\python312\\site-packages (from pandas) (2.9.0.post0)\n",
      "Requirement already satisfied: pytz>=2020.1 in c:\\users\\sudharsan\\appdata\\local\\programs\\python\\python312\\lib\\site-packages (from pandas) (2024.1)\n",
      "Requirement already satisfied: tzdata>=2022.7 in c:\\users\\sudharsan\\appdata\\local\\programs\\python\\python312\\lib\\site-packages (from pandas) (2024.1)\n",
      "Requirement already satisfied: six>=1.5 in c:\\users\\sudharsan\\appdata\\roaming\\python\\python312\\site-packages (from python-dateutil>=2.8.2->pandas) (1.16.0)\n"
     ]
    }
   ],
   "source": [
    "!pip install pandas"
   ]
  },
  {
   "cell_type": "code",
   "execution_count": 4,
   "metadata": {},
   "outputs": [
    {
     "name": "stdout",
     "output_type": "stream",
     "text": [
      "                                       Id   BIRTHDATE   DEATHDATE PREFIX  \\\n",
      "0    5605b66b-e92d-c16c-1b83-b8bf7040d51f  1977-03-19         NaN   Mrs.   \n",
      "1    6e5ae27c-8038-7988-e2c0-25a103f01bfa  1940-02-19         NaN    Mr.   \n",
      "2    8123d076-0886-9007-e956-d5864aa121a7  1958-06-04         NaN    Mr.   \n",
      "3    770518e4-6133-648e-60c9-071eb2f0e2ce  1928-12-25  2017-09-29    Mr.   \n",
      "4    f96addf5-81b9-0aab-7855-d208d3d352c5  1928-12-25  2014-02-23    Mr.   \n",
      "..                                    ...         ...         ...    ...   \n",
      "969  d684571e-a784-ef61-429e-06fa0d2b1637  1924-03-15         NaN    Mr.   \n",
      "970  13c6f26e-17b7-f534-04db-78a26b26018d  1940-10-31         NaN   Mrs.   \n",
      "971  521e998b-ff0e-767f-b0ee-2bdf1168d66c  1943-04-18         NaN    Mr.   \n",
      "972  b57e24a2-2e48-12f9-3293-c88745cfdc3f  1941-04-28         NaN   Mrs.   \n",
      "973  204f8028-72f8-d6f8-761f-79ebf9f02311  1923-02-14         NaN   Mrs.   \n",
      "\n",
      "           FIRST           LAST SUFFIX       MAIDEN MARITAL   RACE  \\\n",
      "0      Nikita578      Erdman779    NaN    Leannon79       M  white   \n",
      "1        Zane918  Hodkiewicz467    NaN          NaN       M  white   \n",
      "2       Quinn173   Marquardt819    NaN          NaN       M  white   \n",
      "3        Abel832     Smitham825    NaN          NaN       M  white   \n",
      "4       Edwin773     Labadie908    NaN          NaN       M  white   \n",
      "..           ...            ...    ...          ...     ...    ...   \n",
      "969      Chris95      Fisher429    NaN          NaN       S  white   \n",
      "970  Berneice173      Heaney114    NaN  Hermiston71       M  white   \n",
      "971     Jamal145   VonRueden376    NaN          NaN       M  white   \n",
      "972   Chrissy459      Rempel203    NaN      Beer512       M  asian   \n",
      "973   Melaine933       Hintz995    NaN  Baumbach677       M  white   \n",
      "\n",
      "       ETHNICITY GENDER                     BIRTHPLACE  \\\n",
      "0    nonhispanic      F   Wakefield  Massachusetts  US   \n",
      "1    nonhispanic      M   Brookline  Massachusetts  US   \n",
      "2    nonhispanic      M     Gardner  Massachusetts  US   \n",
      "3       hispanic      M    Randolph  Massachusetts  US   \n",
      "4       hispanic      M        Stow  Massachusetts  US   \n",
      "..           ...    ...                            ...   \n",
      "969  nonhispanic      M    Franklin  Massachusetts  US   \n",
      "970  nonhispanic      F   Templeton  Massachusetts  US   \n",
      "971  nonhispanic      M  Chelmsford  Massachusetts  US   \n",
      "972  nonhispanic      F     Needham  Massachusetts  US   \n",
      "973  nonhispanic      F   Southwick  Massachusetts  US   \n",
      "\n",
      "                          ADDRESS       CITY          STATE            COUNTY  \\\n",
      "0      510 Little Station Unit 69     Quincy  Massachusetts    Norfolk County   \n",
      "1             747 Conn Throughway     Boston  Massachusetts    Suffolk County   \n",
      "2    816 Okuneva Extension Apt 91     Quincy  Massachusetts    Norfolk County   \n",
      "3            127 Cole Way Unit 95     Boston  Massachusetts    Suffolk County   \n",
      "4             976 Ziemann Gateway     Boston  Massachusetts    Suffolk County   \n",
      "..                            ...        ...            ...               ...   \n",
      "969       810 Yundt Forge Suite 2    Medford  Massachusetts  Middlesex County   \n",
      "970          617 MacGyver Pathway     Boston  Massachusetts    Suffolk County   \n",
      "971         505 Mertz Path Apt 40     Boston  Massachusetts    Suffolk County   \n",
      "972            366 Beer Crossroad  Cambridge  Massachusetts  Middlesex County   \n",
      "973             382 Mosciski Road     Boston  Massachusetts    Suffolk County   \n",
      "\n",
      "        ZIP        LAT        LON  \n",
      "0    2186.0  42.290937 -70.975503  \n",
      "1    2135.0  42.308831 -71.063162  \n",
      "2    2170.0  42.265177 -70.967085  \n",
      "3    2118.0  42.334304 -71.066801  \n",
      "4    2125.0  42.346771 -71.058813  \n",
      "..      ...        ...        ...  \n",
      "969  2145.0  42.357626 -71.040837  \n",
      "970  2152.0  42.331490 -71.039520  \n",
      "971  2134.0  42.341971 -71.040624  \n",
      "972     NaN  42.337040 -71.094676  \n",
      "973  2128.0  42.357333 -71.057372  \n",
      "\n",
      "[974 rows x 20 columns]\n"
     ]
    }
   ],
   "source": [
    "import pandas as pd\n",
    "df=pd.read_csv(\"patients.csv\")\n",
    "print(df)"
   ]
  }
 ],
 "metadata": {
  "kernelspec": {
   "display_name": "Python 3",
   "language": "python",
   "name": "python3"
  },
  "language_info": {
   "codemirror_mode": {
    "name": "ipython",
    "version": 3
   },
   "file_extension": ".py",
   "mimetype": "text/x-python",
   "name": "python",
   "nbconvert_exporter": "python",
   "pygments_lexer": "ipython3",
   "version": "3.12.3"
  }
 },
 "nbformat": 4,
 "nbformat_minor": 2
}
